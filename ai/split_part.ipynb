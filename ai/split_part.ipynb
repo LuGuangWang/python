{
 "cells": [
  {
   "cell_type": "code",
   "execution_count": 1,
   "metadata": {},
   "outputs": [],
   "source": [
    "import re"
   ]
  },
  {
   "cell_type": "code",
   "execution_count": 2,
   "metadata": {},
   "outputs": [],
   "source": [
    "# f = open(\"大秦帝国全.txt\",'r')\n",
    "\n",
    "# cnt = 0\n",
    "# fileName = \"大秦帝国\"+str(cnt)+\".txt\"\n",
    "# file = open(fileName,'w')\n",
    "\n",
    "# for line in f:\n",
    "#     if line.find(\"《大秦帝国》作者：孙皓辉\") != -1:\n",
    "#         cnt += 1\n",
    "#         file.close()\n",
    "#         fileName = \"大秦帝国\"+str(cnt)+\".txt\"\n",
    "#         file = open(fileName,'w')\n",
    "        \n",
    "#     file.write(line)\n",
    "    \n",
    "# file.close()    \n",
    "# f.close()"
   ]
  },
  {
   "cell_type": "code",
   "execution_count": 3,
   "metadata": {},
   "outputs": [],
   "source": [
    "# f = open(\"大秦帝国1.txt\",'r')\n",
    "\n",
    "# cnt = 0\n",
    "# fileName = \"大秦帝国1/第\"+str(cnt)+\"章.txt\"\n",
    "# file = open(fileName,'w')\n",
    "\n",
    "# for line in f:\n",
    "#     if re.search('第.{,3}章',line):\n",
    "#         cnt += 1\n",
    "#         file.close()\n",
    "#         fileName = \"大秦帝国1/第\"+str(cnt)+\"章.txt\"\n",
    "#         file = open(fileName,'w')\n",
    "        \n",
    "#     file.write(line)\n",
    "    \n",
    "# file.close()    \n",
    "# f.close()"
   ]
  },
  {
   "cell_type": "code",
   "execution_count": 4,
   "metadata": {},
   "outputs": [],
   "source": [
    "f = open(\"大秦帝国2.txt\",'r')\n",
    "\n",
    "cnt = 0\n",
    "fileName = \"大秦帝国2/第\"+str(cnt)+\"章.txt\"\n",
    "file = open(fileName,'w')\n",
    "\n",
    "for line in f:\n",
    "    if re.search('第.{,3}章',line):\n",
    "        cnt += 1\n",
    "        file.close()\n",
    "        fileName = \"大秦帝国2/第\"+str(cnt)+\"章.txt\"\n",
    "        file = open(fileName,'w')\n",
    "        \n",
    "    file.write(line)\n",
    "    \n",
    "file.close()    \n",
    "f.close()"
   ]
  }
 ],
 "metadata": {
  "kernelspec": {
   "display_name": "Python 3",
   "language": "python",
   "name": "python3"
  },
  "language_info": {
   "codemirror_mode": {
    "name": "ipython",
    "version": 3
   },
   "file_extension": ".py",
   "mimetype": "text/x-python",
   "name": "python",
   "nbconvert_exporter": "python",
   "pygments_lexer": "ipython3",
   "version": "3.6.0"
  }
 },
 "nbformat": 4,
 "nbformat_minor": 2
}

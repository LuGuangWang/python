{
 "cells": [
  {
   "cell_type": "code",
   "execution_count": 1,
   "metadata": {},
   "outputs": [],
   "source": [
    "import re\n",
    "import tool\n",
    "import pandas as pd"
   ]
  },
  {
   "cell_type": "code",
   "execution_count": 2,
   "metadata": {},
   "outputs": [],
   "source": [
    "doc = []"
   ]
  },
  {
   "cell_type": "code",
   "execution_count": 3,
   "metadata": {},
   "outputs": [
    {
     "data": {
      "text/plain": [
       "260813"
      ]
     },
     "execution_count": 3,
     "metadata": {},
     "output_type": "execute_result"
    }
   ],
   "source": [
    "txt=\"\"\n",
    "\n",
    "for line in open(\"曾国藩家书.txt\",'r'):\n",
    "    txt += line\n",
    "    \n",
    "len(txt)"
   ]
  },
  {
   "cell_type": "code",
   "execution_count": 4,
   "metadata": {},
   "outputs": [],
   "source": [
    "while txt.find(\"【译文】\") != -1:\n",
    "    start_inx = txt.find(\"【译文】\")+len(\"【译文】\")\n",
    "    \n",
    "    is_end = txt.find(\"【原文】\")\n",
    "    if is_end != -1:\n",
    "        end1_inx = is_end + len(\"【原文】\")\n",
    "        is_end2 = txt[end1_inx:].find(\"【原文】\")\n",
    "        if is_end2 != -1:\n",
    "            end_inx = txt[end1_inx:].find(\"【原文】\") + end1_inx\n",
    "        else:\n",
    "            end_inx = len(txt)\n",
    "    else:\n",
    "        end_inx = len(txt)\n",
    "    \n",
    "    content = txt[start_inx:end_inx]\n",
    "\n",
    "    times = re.findall('道光.*年.*月.*日|咸丰.*年.*月.*日|同治.*年.*月.*日',content)\n",
    "    \n",
    "    doc.append(['曾国藩家书','#'.join(times),content])\n",
    "\n",
    "    txt = txt[end_inx:]\n",
    "    "
   ]
  },
  {
   "cell_type": "code",
   "execution_count": 5,
   "metadata": {},
   "outputs": [
    {
     "data": {
      "text/plain": [
       "195"
      ]
     },
     "execution_count": 5,
     "metadata": {},
     "output_type": "execute_result"
    }
   ],
   "source": [
    "len(doc)"
   ]
  },
  {
   "cell_type": "code",
   "execution_count": 6,
   "metadata": {},
   "outputs": [
    {
     "data": {
      "text/html": [
       "<div>\n",
       "<style scoped>\n",
       "    .dataframe tbody tr th:only-of-type {\n",
       "        vertical-align: middle;\n",
       "    }\n",
       "\n",
       "    .dataframe tbody tr th {\n",
       "        vertical-align: top;\n",
       "    }\n",
       "\n",
       "    .dataframe thead th {\n",
       "        text-align: right;\n",
       "    }\n",
       "</style>\n",
       "<table border=\"1\" class=\"dataframe\">\n",
       "  <thead>\n",
       "    <tr style=\"text-align: right;\">\n",
       "      <th></th>\n",
       "      <th>0</th>\n",
       "      <th>1</th>\n",
       "      <th>2</th>\n",
       "    </tr>\n",
       "  </thead>\n",
       "  <tbody>\n",
       "    <tr>\n",
       "      <th>193</th>\n",
       "      <td>曾国藩家书</td>\n",
       "      <td>咸丰十年六月二十八日</td>\n",
       "      <td>\\n    沅弟、季弟左右：\\n    探报已看过了。这一路没有送信的人，马上由东流、建德驿...</td>\n",
       "    </tr>\n",
       "    <tr>\n",
       "      <th>194</th>\n",
       "      <td>曾国藩家书</td>\n",
       "      <td>同治元年四月十二日</td>\n",
       "      <td>\\n    沅弟左右：\\n    水师攻打金柱关的时候，如果有陆军三千人在那里，会容易得手。...</td>\n",
       "    </tr>\n",
       "  </tbody>\n",
       "</table>\n",
       "</div>"
      ],
      "text/plain": [
       "         0           1                                                  2\n",
       "193  曾国藩家书  咸丰十年六月二十八日  \\n    沅弟、季弟左右：\\n    探报已看过了。这一路没有送信的人，马上由东流、建德驿...\n",
       "194  曾国藩家书   同治元年四月十二日  \\n    沅弟左右：\\n    水师攻打金柱关的时候，如果有陆军三千人在那里，会容易得手。..."
      ]
     },
     "execution_count": 6,
     "metadata": {},
     "output_type": "execute_result"
    }
   ],
   "source": [
    "docs = pd.DataFrame(doc)\n",
    "docs[-2:]"
   ]
  },
  {
   "cell_type": "code",
   "execution_count": 7,
   "metadata": {},
   "outputs": [],
   "source": [
    "docs.to_csv(\"f_jiashu.csv\",index=False)"
   ]
  },
  {
   "cell_type": "code",
   "execution_count": 8,
   "metadata": {},
   "outputs": [
    {
     "data": {
      "text/plain": [
       "''"
      ]
     },
     "execution_count": 8,
     "metadata": {},
     "output_type": "execute_result"
    }
   ],
   "source": [
    "txt"
   ]
  },
  {
   "cell_type": "code",
   "execution_count": 9,
   "metadata": {},
   "outputs": [],
   "source": [
    "ss=\"恭读父母的手书教海，说儿子教育弟弟应该以明白责备为好，不适宜唠叨教他们阅历。儿子回忆多年来教育弟弟的信，不下数万字，或者明白的责备，或者委婉的规劝，或者从大的广泛的论述，或者从小的方面细细的指点，知无不言，总之，尽一切努力罢了。媳妇和孙子孙女都平安，请放心。儿子谨禀，（道光二十三年二月十九）\""
   ]
  },
  {
   "cell_type": "code",
   "execution_count": 10,
   "metadata": {},
   "outputs": [
    {
     "data": {
      "text/plain": [
       "[]"
      ]
     },
     "execution_count": 10,
     "metadata": {},
     "output_type": "execute_result"
    }
   ],
   "source": [
    "re.findall('道光.*年.*月.*日|咸丰.*年.*月.*日|同治.*年.*月.*日',ss)"
   ]
  },
  {
   "cell_type": "code",
   "execution_count": null,
   "metadata": {},
   "outputs": [],
   "source": []
  }
 ],
 "metadata": {
  "kernelspec": {
   "display_name": "Python 3",
   "language": "python",
   "name": "python3"
  },
  "language_info": {
   "codemirror_mode": {
    "name": "ipython",
    "version": 3
   },
   "file_extension": ".py",
   "mimetype": "text/x-python",
   "name": "python",
   "nbconvert_exporter": "python",
   "pygments_lexer": "ipython3",
   "version": "3.6.0"
  }
 },
 "nbformat": 4,
 "nbformat_minor": 2
}

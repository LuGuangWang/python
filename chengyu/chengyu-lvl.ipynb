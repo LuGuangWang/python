{
 "cells": [
  {
   "cell_type": "code",
   "execution_count": 1,
   "metadata": {},
   "outputs": [],
   "source": [
    "import pandas as pd\n",
    "import random"
   ]
  },
  {
   "cell_type": "code",
   "execution_count": 2,
   "metadata": {},
   "outputs": [
    {
     "data": {
      "text/html": [
       "<div>\n",
       "<style scoped>\n",
       "    .dataframe tbody tr th:only-of-type {\n",
       "        vertical-align: middle;\n",
       "    }\n",
       "\n",
       "    .dataframe tbody tr th {\n",
       "        vertical-align: top;\n",
       "    }\n",
       "\n",
       "    .dataframe thead th {\n",
       "        text-align: right;\n",
       "    }\n",
       "</style>\n",
       "<table border=\"1\" class=\"dataframe\">\n",
       "  <thead>\n",
       "    <tr style=\"text-align: right;\">\n",
       "      <th></th>\n",
       "      <th>word</th>\n",
       "    </tr>\n",
       "  </thead>\n",
       "  <tbody>\n",
       "    <tr>\n",
       "      <th>0</th>\n",
       "      <td>阿鼻地狱</td>\n",
       "    </tr>\n",
       "    <tr>\n",
       "      <th>1</th>\n",
       "      <td>阿党比周</td>\n",
       "    </tr>\n",
       "    <tr>\n",
       "      <th>2</th>\n",
       "      <td>阿党相为</td>\n",
       "    </tr>\n",
       "    <tr>\n",
       "      <th>3</th>\n",
       "      <td>阿狗阿猫</td>\n",
       "    </tr>\n",
       "    <tr>\n",
       "      <th>4</th>\n",
       "      <td>阿姑阿翁</td>\n",
       "    </tr>\n",
       "  </tbody>\n",
       "</table>\n",
       "</div>"
      ],
      "text/plain": [
       "   word\n",
       "0  阿鼻地狱\n",
       "1  阿党比周\n",
       "2  阿党相为\n",
       "3  阿狗阿猫\n",
       "4  阿姑阿翁"
      ]
     },
     "execution_count": 2,
     "metadata": {},
     "output_type": "execute_result"
    }
   ],
   "source": [
    "df = pd.read_csv(\"words.csv\")\n",
    "df[:5]"
   ]
  },
  {
   "cell_type": "code",
   "execution_count": 3,
   "metadata": {},
   "outputs": [
    {
     "data": {
      "text/html": [
       "<div>\n",
       "<style scoped>\n",
       "    .dataframe tbody tr th:only-of-type {\n",
       "        vertical-align: middle;\n",
       "    }\n",
       "\n",
       "    .dataframe tbody tr th {\n",
       "        vertical-align: top;\n",
       "    }\n",
       "\n",
       "    .dataframe thead th {\n",
       "        text-align: right;\n",
       "    }\n",
       "</style>\n",
       "<table border=\"1\" class=\"dataframe\">\n",
       "  <thead>\n",
       "    <tr style=\"text-align: right;\">\n",
       "      <th></th>\n",
       "      <th>word</th>\n",
       "      <th>len</th>\n",
       "    </tr>\n",
       "  </thead>\n",
       "  <tbody>\n",
       "    <tr>\n",
       "      <th>0</th>\n",
       "      <td>阿鼻地狱</td>\n",
       "      <td>4</td>\n",
       "    </tr>\n",
       "    <tr>\n",
       "      <th>1</th>\n",
       "      <td>阿党比周</td>\n",
       "      <td>4</td>\n",
       "    </tr>\n",
       "    <tr>\n",
       "      <th>2</th>\n",
       "      <td>阿党相为</td>\n",
       "      <td>4</td>\n",
       "    </tr>\n",
       "    <tr>\n",
       "      <th>3</th>\n",
       "      <td>阿狗阿猫</td>\n",
       "      <td>4</td>\n",
       "    </tr>\n",
       "    <tr>\n",
       "      <th>4</th>\n",
       "      <td>阿姑阿翁</td>\n",
       "      <td>4</td>\n",
       "    </tr>\n",
       "  </tbody>\n",
       "</table>\n",
       "</div>"
      ],
      "text/plain": [
       "   word  len\n",
       "0  阿鼻地狱    4\n",
       "1  阿党比周    4\n",
       "2  阿党相为    4\n",
       "3  阿狗阿猫    4\n",
       "4  阿姑阿翁    4"
      ]
     },
     "execution_count": 3,
     "metadata": {},
     "output_type": "execute_result"
    }
   ],
   "source": [
    "df['len'] = df['word'].apply(len)\n",
    "df[:5]"
   ]
  },
  {
   "cell_type": "code",
   "execution_count": 4,
   "metadata": {},
   "outputs": [
    {
     "data": {
      "text/plain": [
       "30895"
      ]
     },
     "execution_count": 4,
     "metadata": {},
     "output_type": "execute_result"
    }
   ],
   "source": [
    "len(df)"
   ]
  },
  {
   "cell_type": "code",
   "execution_count": 5,
   "metadata": {},
   "outputs": [
    {
     "data": {
      "text/html": [
       "<div>\n",
       "<style scoped>\n",
       "    .dataframe tbody tr th:only-of-type {\n",
       "        vertical-align: middle;\n",
       "    }\n",
       "\n",
       "    .dataframe tbody tr th {\n",
       "        vertical-align: top;\n",
       "    }\n",
       "\n",
       "    .dataframe thead th {\n",
       "        text-align: right;\n",
       "    }\n",
       "</style>\n",
       "<table border=\"1\" class=\"dataframe\">\n",
       "  <thead>\n",
       "    <tr style=\"text-align: right;\">\n",
       "      <th></th>\n",
       "      <th>word</th>\n",
       "      <th>len</th>\n",
       "    </tr>\n",
       "  </thead>\n",
       "  <tbody>\n",
       "    <tr>\n",
       "      <th>0</th>\n",
       "      <td>阿鼻地狱</td>\n",
       "      <td>4</td>\n",
       "    </tr>\n",
       "    <tr>\n",
       "      <th>1</th>\n",
       "      <td>阿党比周</td>\n",
       "      <td>4</td>\n",
       "    </tr>\n",
       "    <tr>\n",
       "      <th>2</th>\n",
       "      <td>阿党相为</td>\n",
       "      <td>4</td>\n",
       "    </tr>\n",
       "    <tr>\n",
       "      <th>3</th>\n",
       "      <td>阿狗阿猫</td>\n",
       "      <td>4</td>\n",
       "    </tr>\n",
       "    <tr>\n",
       "      <th>4</th>\n",
       "      <td>阿姑阿翁</td>\n",
       "      <td>4</td>\n",
       "    </tr>\n",
       "  </tbody>\n",
       "</table>\n",
       "</div>"
      ],
      "text/plain": [
       "   word  len\n",
       "0  阿鼻地狱    4\n",
       "1  阿党比周    4\n",
       "2  阿党相为    4\n",
       "3  阿狗阿猫    4\n",
       "4  阿姑阿翁    4"
      ]
     },
     "execution_count": 5,
     "metadata": {},
     "output_type": "execute_result"
    }
   ],
   "source": [
    "cys = df[df['len'] <= 10].reset_index(drop=True)\n",
    "cys[:5]"
   ]
  },
  {
   "cell_type": "code",
   "execution_count": 6,
   "metadata": {},
   "outputs": [
    {
     "data": {
      "text/plain": [
       "count    30835.000000\n",
       "mean         4.115291\n",
       "std          0.678317\n",
       "min          3.000000\n",
       "25%          4.000000\n",
       "50%          4.000000\n",
       "75%          4.000000\n",
       "max         10.000000\n",
       "Name: len, dtype: float64"
      ]
     },
     "execution_count": 6,
     "metadata": {},
     "output_type": "execute_result"
    }
   ],
   "source": [
    "cys['len'].describe()"
   ]
  },
  {
   "cell_type": "code",
   "execution_count": 7,
   "metadata": {},
   "outputs": [],
   "source": [
    "#当前关卡成语个数\n",
    "def getCyNum(lvl):\n",
    "    return 5 + round(lvl**0.25)\n",
    "\n",
    "#位置数组\n",
    "def getInxs(nanNum,wordLen):\n",
    "    nanInxs = []\n",
    "    for i in range(0,nanNum):\n",
    "        inx = random.randint(0,wordLen-1)\n",
    "        if inx not in nanInxs:\n",
    "            nanInxs.append(inx)\n",
    "    nanInxs.sort()\n",
    "    return nanInxs"
   ]
  },
  {
   "cell_type": "code",
   "execution_count": 8,
   "metadata": {},
   "outputs": [],
   "source": [
    "# 查找成语\n",
    "def searchCy(key_word,inx):\n",
    "    word = ''\n",
    "    if key_word:\n",
    "        tmp_cys = cys[cys['word'].str[inx:inx+1] == key_word].reset_index(drop=True)\n",
    "    else:\n",
    "        tmp_cys = cys\n",
    "    #取成语\n",
    "    tmp_len = len(tmp_cys)\n",
    "    if tmp_len > 0:\n",
    "        tmp_inx = random.randint(0,tmp_len-1)\n",
    "        word = tmp_cys.loc[tmp_inx,'word']\n",
    "    return word\n",
    "\n",
    "# 查找成语2\n",
    "def searchCy2(key_word,inx,key_word2,inx2):\n",
    "    word = ''\n",
    "    if key_word:\n",
    "        tmp_cys = cys[(cys['word'].str[inx:inx+1] == key_word) & (cys['word'].str[inx2:inx2+1] == key_word2)].reset_index(drop=True)\n",
    "    else:\n",
    "        tmp_cys = cys\n",
    "    #取成语\n",
    "    tmp_len = len(tmp_cys)\n",
    "    if tmp_len > 0:\n",
    "        tmp_inx = random.randint(0,tmp_len-1)\n",
    "        word = tmp_cys.loc[tmp_inx,'word']\n",
    "    return word\n",
    "\n",
    "# 获取冲突关键字\n",
    "def getKeyWord2(inx):\n",
    "    key_word = ''\n",
    "    for item in res_word_dots:\n",
    "        if item.find(inx) != -1:\n",
    "            key_word = item.replace(inx,'')\n",
    "            break\n",
    "    return key_word"
   ]
  },
  {
   "cell_type": "code",
   "execution_count": 9,
   "metadata": {},
   "outputs": [],
   "source": [
    "#第一个\n",
    "def buildCy(direct,dots):\n",
    "    #确定方向\n",
    "    for dot in dots:\n",
    "        print(\"=====坐标起点1: \",dot)\n",
    "        \n",
    "        key_word = dot['word']\n",
    "        key_inx = dot['inx']\n",
    "        x = dot['x']\n",
    "        y = dot['y']\n",
    "        #取成语\n",
    "        word = searchCy(key_word,key_inx)\n",
    "        #成语长度\n",
    "        wordLen = len(word)\n",
    "            \n",
    "        if direct == 0: #横向\n",
    "            #预备坐标点\n",
    "            random_x = 0\n",
    "            if abs(x)+wordLen >10:\n",
    "                random_x = random.randint(abs(x)-4,abs(x))\n",
    "            else:\n",
    "                random_x = x + wordLen\n",
    "            nextDots = [{'x':random_x,'y':y,'word':'','inx':0}]\n",
    "            nextDirect = direct\n",
    "            #判断坐标是否有冲突\n",
    "            word_no_conflict = True\n",
    "            only_two = True\n",
    "            for i in range(wordLen):\n",
    "                if str(x+i)+str(y) in res_dots:\n",
    "                    if str(x+i)+\"#\"+str(y)+\"#\"+word[i:i+1] not in res_word_dots:\n",
    "                        #查看是否有包含冲突字的成语\n",
    "                        if only_two:\n",
    "                            only_two = False\n",
    "                            key_word2 = getKeyWord2(str(x+i)+\"#\"+str(y)+\"#\")\n",
    "                            key_inx2 = i\n",
    "                            word = searchCy2(key_word,key_inx,key_word2,key_inx2)\n",
    "                            wordLen = len(word)\n",
    "                            #重置循环位置\n",
    "                            if word:\n",
    "                                i = 0\n",
    "                                word_no_conflict = True\n",
    "                        else:\n",
    "                            word_no_conflict = False\n",
    "            \n",
    "            if (abs(x) + wordLen) <= 10 \\\n",
    "                and (str(x-1)+str(y)) not in res_dots \\\n",
    "                and (str(x+wordLen)+str(y)) not in res_dots \\\n",
    "                and str(x)+str(y)+str(direct) not in start_dots \\\n",
    "                and word_no_conflict \\\n",
    "                and word:\n",
    "                #加入字的坐标\n",
    "                for i in range(wordLen):\n",
    "                    res_dots.append(str(x+i)+str(y))\n",
    "                    res_word_dots.append(str(x+i)+\"#\"+str(y)+\"#\"+word[i:i+1])\n",
    "                \n",
    "                #加入起点坐标\n",
    "                start_dots.append(str(x)+str(y)+str(direct))\n",
    "                \n",
    "                #加入词\n",
    "                res.append({'x':x,'y':y,'word':word,'direct':direct})\n",
    "                \n",
    "                print('=====横排加入符合条件的成语2: ',res)\n",
    "                if len(res) < nums:\n",
    "                    #以此成语，扩展其它成语的个数\n",
    "                    nextCyNum = random.randint(1,int(wordLen/2))\n",
    "                    nextInxs = getInxs(nextCyNum,wordLen)\n",
    "                    #下一批成语的坐标\n",
    "                    nextDots = []\n",
    "                    for nextInx in nextInxs:\n",
    "                        newX = x + nextInx\n",
    "                        inx = random.randint(0,2)\n",
    "                        newY = y + inx\n",
    "                        nextDots.append({'x':newX,'y':newY,'word':word[nextInx:nextInx+1],'inx':inx})\n",
    "                    #方向\n",
    "                    nextDirect = 1\n",
    "                \n",
    "            #继续循环\n",
    "            if len(res)+len(nextDots) <= nums:\n",
    "                print('====横排下轮循环的参数3: ',nextDirect,nextDots)\n",
    "                buildCy(nextDirect,nextDots)\n",
    "        else: #纵向\n",
    "            #预备坐标点\n",
    "            random_y = 0\n",
    "            if abs(y) - wordLen < 0:\n",
    "                random_y = random.randint(abs(y)-4,abs(y))\n",
    "            else:\n",
    "                random_y = abs(y) - wordLen\n",
    "            nextDots = [{'x':x,'y':random_y,'word':'','inx':0}]\n",
    "            nextDirect = direct\n",
    "            #判断坐标是否有冲突\n",
    "            word_no_conflict = True\n",
    "            only_two = True\n",
    "            for i in range(wordLen):\n",
    "                if (str(x)+str(y-i)) in res_dots:\n",
    "                    if (str(x)+\"#\"+str(y-i)+\"#\"+word[i:i+1]) not in res_word_dots:\n",
    "                        #查看是否有包含冲突字的成语\n",
    "                        if only_two:\n",
    "                            only_two = False\n",
    "                            key_word2 = getKeyWord2(str(x)+\"#\"+str(y-i)+\"#\")\n",
    "                            key_inx2 = i\n",
    "                            word = searchCy2(key_word,key_inx,key_word2,key_inx2)\n",
    "                            wordLen = len(word)\n",
    "                            #重置循环位置\n",
    "                            if word:\n",
    "                                i = 0\n",
    "                                word_no_conflict = True\n",
    "                        else:\n",
    "                            word_no_conflict = False\n",
    "            \n",
    "            if (abs(y) + wordLen) <= 10 \\\n",
    "                and (str(x)+str(y+1)) not in res_dots \\\n",
    "                and (str(x)+str(y-wordLen)) not in res_dots \\\n",
    "                and str(x)+str(y)+str(direct) not in start_dots \\\n",
    "                and word_no_conflict \\\n",
    "                and word:\n",
    "                #加入字的坐标\n",
    "                for i in range(wordLen):\n",
    "                    res_dots.append(str(x)+str(y-i))\n",
    "                    res_word_dots.append(str(x)+\"#\"+str(y-i)+\"#\"+word[i:i+1])\n",
    "                    \n",
    "                #加入起点坐标\n",
    "                start_dots.append(str(x)+str(y)+str(direct))    \n",
    "                    \n",
    "                #加入词\n",
    "                res.append({'x':x,'y':y,'word':word,'direct':direct})\n",
    "                \n",
    "                print('竖排加入成语4： ',res)\n",
    "                if len(res) < nums:\n",
    "                    #以此成语，扩展其它成语的个数\n",
    "                    nextCyNum = random.randint(1,int(wordLen/2))\n",
    "                    nextInxs = getInxs(nextCyNum,wordLen)\n",
    "                    #下一批成语的坐标\n",
    "                    nextDots = []\n",
    "                    for nextInx in nextInxs:\n",
    "                        inx = random.randint(0,2)\n",
    "                        newX = x - inx\n",
    "                        newY = y - nextInx\n",
    "                        nextDots.append({'x':newX,'y':newY,'word':word[nextInx:nextInx+1],'inx':inx})\n",
    "                    #方向\n",
    "                    nextDirect = 0\n",
    "            #继续循环\n",
    "            if len(res)+len(nextDots) <= nums:\n",
    "                print('竖排下轮参数5: ',nextDirect,nextDots)\n",
    "                buildCy(nextDirect,nextDots)\n",
    "                "
   ]
  },
  {
   "cell_type": "code",
   "execution_count": 10,
   "metadata": {},
   "outputs": [],
   "source": [
    "#成语个数\n",
    "cyNums = len(cys)\n",
    "\n",
    "#当前关卡成语个数\n",
    "lvl = 3\n",
    "nums = getCyNum(lvl)\n",
    "\n",
    "#方向，0，1\n",
    "direct = random.randint(0,1)\n",
    "#坐标\n",
    "dots = [{'x':0,'y':0,'word':'','inx':0}]\n",
    "#dots = [{'x':random.randint(0,9),'y':random.randint(0,9)}]\n",
    "res = []\n",
    "\n",
    "#坐标点\n",
    "res_dots = []\n",
    "\n",
    "#单个词的坐标点\n",
    "res_word_dots = []\n",
    "\n",
    "#起点坐标\n",
    "start_dots = []"
   ]
  },
  {
   "cell_type": "code",
   "execution_count": 11,
   "metadata": {},
   "outputs": [
    {
     "name": "stdout",
     "output_type": "stream",
     "text": [
      "=====坐标起点1:  {'x': 0, 'y': 0, 'word': '', 'inx': 0}\n",
      "竖排加入成语4：  [{'x': 0, 'y': 0, 'word': '投膏止火', 'direct': 1}]\n",
      "竖排下轮参数5:  0 [{'x': 0, 'y': -2, 'word': '止', 'inx': 0}]\n",
      "=====坐标起点1:  {'x': 0, 'y': -2, 'word': '止', 'inx': 0}\n",
      "=====横排加入符合条件的成语2:  [{'x': 0, 'y': 0, 'word': '投膏止火', 'direct': 1}, {'x': 0, 'y': -2, 'word': '止戈兴仁', 'direct': 0}]\n",
      "====横排下轮循环的参数3:  1 [{'x': 2, 'y': -1, 'word': '兴', 'inx': 1}]\n",
      "=====坐标起点1:  {'x': 2, 'y': -1, 'word': '兴', 'inx': 1}\n",
      "竖排加入成语4：  [{'x': 0, 'y': 0, 'word': '投膏止火', 'direct': 1}, {'x': 0, 'y': -2, 'word': '止戈兴仁', 'direct': 0}, {'x': 2, 'y': -1, 'word': '夙兴昧旦', 'direct': 1}]\n",
      "竖排下轮参数5:  0 [{'x': 2, 'y': -4, 'word': '旦', 'inx': 0}]\n",
      "=====坐标起点1:  {'x': 2, 'y': -4, 'word': '旦', 'inx': 0}\n",
      "=====横排加入符合条件的成语2:  [{'x': 0, 'y': 0, 'word': '投膏止火', 'direct': 1}, {'x': 0, 'y': -2, 'word': '止戈兴仁', 'direct': 0}, {'x': 2, 'y': -1, 'word': '夙兴昧旦', 'direct': 1}, {'x': 2, 'y': -4, 'word': '旦暮入地', 'direct': 0}]\n",
      "====横排下轮循环的参数3:  1 [{'x': 3, 'y': -3, 'word': '暮', 'inx': 1}, {'x': 5, 'y': -2, 'word': '地', 'inx': 2}]\n",
      "=====坐标起点1:  {'x': 3, 'y': -3, 'word': '暮', 'inx': 1}\n",
      "竖排下轮参数5:  1 [{'x': 3, 'y': 3, 'word': '', 'inx': 0}]\n",
      "=====坐标起点1:  {'x': 3, 'y': 3, 'word': '', 'inx': 0}\n",
      "竖排加入成语4：  [{'x': 0, 'y': 0, 'word': '投膏止火', 'direct': 1}, {'x': 0, 'y': -2, 'word': '止戈兴仁', 'direct': 0}, {'x': 2, 'y': -1, 'word': '夙兴昧旦', 'direct': 1}, {'x': 2, 'y': -4, 'word': '旦暮入地', 'direct': 0}, {'x': 3, 'y': 3, 'word': '蝇头小楷', 'direct': 1}]\n",
      "竖排下轮参数5:  0 [{'x': 2, 'y': 3, 'word': '蝇', 'inx': 1}]\n",
      "=====坐标起点1:  {'x': 2, 'y': 3, 'word': '蝇', 'inx': 1}\n",
      "=====横排加入符合条件的成语2:  [{'x': 0, 'y': 0, 'word': '投膏止火', 'direct': 1}, {'x': 0, 'y': -2, 'word': '止戈兴仁', 'direct': 0}, {'x': 2, 'y': -1, 'word': '夙兴昧旦', 'direct': 1}, {'x': 2, 'y': -4, 'word': '旦暮入地', 'direct': 0}, {'x': 3, 'y': 3, 'word': '蝇头小楷', 'direct': 1}, {'x': 2, 'y': 3, 'word': '青蝇吊客', 'direct': 0}]\n",
      "=====坐标起点1:  {'x': 5, 'y': -2, 'word': '地', 'inx': 2}\n",
      "竖排加入成语4：  [{'x': 0, 'y': 0, 'word': '投膏止火', 'direct': 1}, {'x': 0, 'y': -2, 'word': '止戈兴仁', 'direct': 0}, {'x': 2, 'y': -1, 'word': '夙兴昧旦', 'direct': 1}, {'x': 2, 'y': -4, 'word': '旦暮入地', 'direct': 0}, {'x': 3, 'y': 3, 'word': '蝇头小楷', 'direct': 1}, {'x': 2, 'y': 3, 'word': '青蝇吊客', 'direct': 0}, {'x': 5, 'y': -2, 'word': '天冠地屦', 'direct': 1}]\n"
     ]
    }
   ],
   "source": [
    "buildCy(direct,dots)"
   ]
  },
  {
   "cell_type": "code",
   "execution_count": 12,
   "metadata": {},
   "outputs": [
    {
     "data": {
      "text/plain": [
       "[{'x': 0, 'y': 0, 'word': '投膏止火', 'direct': 1},\n",
       " {'x': 0, 'y': -2, 'word': '止戈兴仁', 'direct': 0},\n",
       " {'x': 2, 'y': -1, 'word': '夙兴昧旦', 'direct': 1},\n",
       " {'x': 2, 'y': -4, 'word': '旦暮入地', 'direct': 0},\n",
       " {'x': 3, 'y': 3, 'word': '蝇头小楷', 'direct': 1},\n",
       " {'x': 2, 'y': 3, 'word': '青蝇吊客', 'direct': 0},\n",
       " {'x': 5, 'y': -2, 'word': '天冠地屦', 'direct': 1}]"
      ]
     },
     "execution_count": 12,
     "metadata": {},
     "output_type": "execute_result"
    }
   ],
   "source": [
    "res"
   ]
  },
  {
   "cell_type": "code",
   "execution_count": 13,
   "metadata": {},
   "outputs": [],
   "source": [
    "# #手动调整位置坐标\n",
    "# res.pop(5)\n",
    "# \n",
    "# #调整字段坐标位置\n",
    "# res_word_dots = []\n",
    "# for cy_word in res:\n",
    "#     x = int(cy_word['x'])\n",
    "#     y = int(cy_word['y'])\n",
    "#     cur_word = cy_word['word']\n",
    "#     cur_word_len = len(cur_word)\n",
    "#     cur_direct = int(cy_word['direct'])\n",
    "#     if cur_direct == 0:\n",
    "#         for i in range(cur_word_len):\n",
    "#             res_word_dots.append(str(x+i)+\"#\"+str(y)+\"#\"+cur_word[i:i+1])\n",
    "#     else:\n",
    "#         for i in range(cur_word_len):\n",
    "#             res_word_dots.append(str(x)+\"#\"+str(y-i)+\"#\"+cur_word[i:i+1])\n",
    "        "
   ]
  },
  {
   "cell_type": "code",
   "execution_count": 14,
   "metadata": {},
   "outputs": [
    {
     "data": {
      "text/plain": [
       "['0#0#投',\n",
       " '0#-1#膏',\n",
       " '0#-2#止',\n",
       " '0#-3#火',\n",
       " '0#-2#止',\n",
       " '1#-2#戈',\n",
       " '2#-2#兴',\n",
       " '3#-2#仁',\n",
       " '2#-1#夙',\n",
       " '2#-2#兴',\n",
       " '2#-3#昧',\n",
       " '2#-4#旦',\n",
       " '2#-4#旦',\n",
       " '3#-4#暮',\n",
       " '4#-4#入',\n",
       " '5#-4#地',\n",
       " '3#3#蝇',\n",
       " '3#2#头',\n",
       " '3#1#小',\n",
       " '3#0#楷',\n",
       " '2#3#青',\n",
       " '3#3#蝇',\n",
       " '4#3#吊',\n",
       " '5#3#客',\n",
       " '5#-2#天',\n",
       " '5#-3#冠',\n",
       " '5#-4#地',\n",
       " '5#-5#屦']"
      ]
     },
     "execution_count": 14,
     "metadata": {},
     "output_type": "execute_result"
    }
   ],
   "source": [
    "res_word_dots"
   ]
  },
  {
   "cell_type": "code",
   "execution_count": 15,
   "metadata": {},
   "outputs": [
    {
     "data": {
      "text/plain": [
       "6"
      ]
     },
     "execution_count": 15,
     "metadata": {},
     "output_type": "execute_result"
    }
   ],
   "source": [
    "nums"
   ]
  },
  {
   "cell_type": "code",
   "execution_count": 16,
   "metadata": {},
   "outputs": [
    {
     "data": {
      "text/html": [
       "<div>\n",
       "<style scoped>\n",
       "    .dataframe tbody tr th:only-of-type {\n",
       "        vertical-align: middle;\n",
       "    }\n",
       "\n",
       "    .dataframe tbody tr th {\n",
       "        vertical-align: top;\n",
       "    }\n",
       "\n",
       "    .dataframe thead th {\n",
       "        text-align: right;\n",
       "    }\n",
       "</style>\n",
       "<table border=\"1\" class=\"dataframe\">\n",
       "  <thead>\n",
       "    <tr style=\"text-align: right;\">\n",
       "      <th></th>\n",
       "      <th>0</th>\n",
       "    </tr>\n",
       "  </thead>\n",
       "  <tbody>\n",
       "    <tr>\n",
       "      <th>0</th>\n",
       "      <td>0#0#投</td>\n",
       "    </tr>\n",
       "    <tr>\n",
       "      <th>1</th>\n",
       "      <td>0#-1#膏</td>\n",
       "    </tr>\n",
       "    <tr>\n",
       "      <th>2</th>\n",
       "      <td>0#-2#止</td>\n",
       "    </tr>\n",
       "    <tr>\n",
       "      <th>3</th>\n",
       "      <td>0#-3#火</td>\n",
       "    </tr>\n",
       "    <tr>\n",
       "      <th>4</th>\n",
       "      <td>0#-2#止</td>\n",
       "    </tr>\n",
       "  </tbody>\n",
       "</table>\n",
       "</div>"
      ],
      "text/plain": [
       "        0\n",
       "0   0#0#投\n",
       "1  0#-1#膏\n",
       "2  0#-2#止\n",
       "3  0#-3#火\n",
       "4  0#-2#止"
      ]
     },
     "execution_count": 16,
     "metadata": {},
     "output_type": "execute_result"
    }
   ],
   "source": [
    "res_df = pd.DataFrame(res_word_dots)\n",
    "res_df[:5]"
   ]
  },
  {
   "cell_type": "code",
   "execution_count": 17,
   "metadata": {},
   "outputs": [
    {
     "data": {
      "text/html": [
       "<div>\n",
       "<style scoped>\n",
       "    .dataframe tbody tr th:only-of-type {\n",
       "        vertical-align: middle;\n",
       "    }\n",
       "\n",
       "    .dataframe tbody tr th {\n",
       "        vertical-align: top;\n",
       "    }\n",
       "\n",
       "    .dataframe thead th {\n",
       "        text-align: right;\n",
       "    }\n",
       "</style>\n",
       "<table border=\"1\" class=\"dataframe\">\n",
       "  <thead>\n",
       "    <tr style=\"text-align: right;\">\n",
       "      <th></th>\n",
       "      <th>x</th>\n",
       "      <th>y</th>\n",
       "      <th>word</th>\n",
       "    </tr>\n",
       "  </thead>\n",
       "  <tbody>\n",
       "    <tr>\n",
       "      <th>0</th>\n",
       "      <td>0</td>\n",
       "      <td>0</td>\n",
       "      <td>投</td>\n",
       "    </tr>\n",
       "    <tr>\n",
       "      <th>1</th>\n",
       "      <td>0</td>\n",
       "      <td>-1</td>\n",
       "      <td>膏</td>\n",
       "    </tr>\n",
       "    <tr>\n",
       "      <th>2</th>\n",
       "      <td>0</td>\n",
       "      <td>-2</td>\n",
       "      <td>止</td>\n",
       "    </tr>\n",
       "    <tr>\n",
       "      <th>3</th>\n",
       "      <td>0</td>\n",
       "      <td>-3</td>\n",
       "      <td>火</td>\n",
       "    </tr>\n",
       "    <tr>\n",
       "      <th>5</th>\n",
       "      <td>1</td>\n",
       "      <td>-2</td>\n",
       "      <td>戈</td>\n",
       "    </tr>\n",
       "  </tbody>\n",
       "</table>\n",
       "</div>"
      ],
      "text/plain": [
       "   x  y word\n",
       "0  0  0    投\n",
       "1  0 -1    膏\n",
       "2  0 -2    止\n",
       "3  0 -3    火\n",
       "5  1 -2    戈"
      ]
     },
     "execution_count": 17,
     "metadata": {},
     "output_type": "execute_result"
    }
   ],
   "source": [
    "res_df['x'] = res_df[0].apply(lambda x: int(x.split(\"#\")[0]))\n",
    "res_df['y'] = res_df[0].apply(lambda x: int(x.split(\"#\")[1]))\n",
    "res_df['word'] = res_df[0].apply(lambda x:x.split(\"#\")[2])\n",
    "res_df = res_df.drop(columns=[0],axis=1)\n",
    "res_df = res_df.drop_duplicates()\n",
    "res_df[:5]"
   ]
  },
  {
   "cell_type": "code",
   "execution_count": 18,
   "metadata": {},
   "outputs": [
    {
     "data": {
      "text/plain": [
       "['投', '膏', '火', '戈', '兴', '兴', '旦', '地', '蝇', '吊', '冠']"
      ]
     },
     "execution_count": 18,
     "metadata": {},
     "output_type": "execute_result"
    }
   ],
   "source": [
    "# 缺失字\n",
    "answers = []\n",
    "for item in res:\n",
    "    #空缺个数\n",
    "    word = item['word']\n",
    "    wordLen = len(word)\n",
    "    nanNum = random.randint(1,wordLen-1)\n",
    "    nanInxs = getInxs(nanNum,wordLen)\n",
    "    for nanInx in nanInxs:\n",
    "        answers.append(word[nanInx:nanInx+1])\n",
    "        \n",
    "answers"
   ]
  },
  {
   "cell_type": "code",
   "execution_count": 19,
   "metadata": {},
   "outputs": [
    {
     "name": "stdout",
     "output_type": "stream",
     "text": [
      "===== x,y,word,row_num,start_inx: 8 1 屦 1 1\n",
      "===== x,y,word,row_num,start_inx: 5 2 旦 1 9\n",
      "===== x,y,word,row_num,start_inx: 6 2 暮 2 6\n",
      "===== x,y,word,row_num,start_inx: 7 2 入 2 7\n",
      "===== x,y,word,row_num,start_inx: 8 2 地 2 8\n",
      "===== x,y,word,row_num,start_inx: 3 3 火 2 9\n",
      "===== x,y,word,row_num,start_inx: 5 3 昧 3 4\n",
      "===== x,y,word,row_num,start_inx: 8 3 冠 3 6\n",
      "===== x,y,word,row_num,start_inx: 3 4 止 3 9\n",
      "===== x,y,word,row_num,start_inx: 4 4 戈 4 4\n",
      "===== x,y,word,row_num,start_inx: 5 4 兴 4 5\n",
      "===== x,y,word,row_num,start_inx: 6 4 仁 4 6\n",
      "===== x,y,word,row_num,start_inx: 8 4 天 4 7\n",
      "===== x,y,word,row_num,start_inx: 3 5 膏 4 9\n",
      "===== x,y,word,row_num,start_inx: 5 5 夙 5 4\n",
      "===== x,y,word,row_num,start_inx: 3 6 投 5 6\n",
      "===== x,y,word,row_num,start_inx: 6 6 楷 6 4\n",
      "===== x,y,word,row_num,start_inx: 6 7 小 6 7\n",
      "===== x,y,word,row_num,start_inx: 6 8 头 7 7\n",
      "===== x,y,word,row_num,start_inx: 5 9 青 8 7\n",
      "===== x,y,word,row_num,start_inx: 6 9 蝇 9 6\n",
      "===== x,y,word,row_num,start_inx: 7 9 吊 9 7\n",
      "===== x,y,word,row_num,start_inx: 8 9 客 9 8\n"
     ]
    }
   ],
   "source": [
    "x_min = res_df['x'].min()\n",
    "x_max = res_df['x'].max()\n",
    "\n",
    "y_min = res_df['y'].min()\n",
    "y_max = res_df['y'].max()\n",
    "\n",
    "x_gap = int((9 - abs(x_max - x_min))/2)\n",
    "x_b = x_gap + 1 - x_min\n",
    "x_dis = abs(x_max - x_min) + 1\n",
    "\n",
    "y_gap = int((9 - abs(y_max - y_min))/2)\n",
    "y_b = y_gap + 1 - y_min\n",
    "y_dis = abs(y_max - y_min) + 1\n",
    "\n",
    "sqls=[]\n",
    "\n",
    "sql = \"insert into llx.chengyu_level(lvl,row_code,word,answer) values(%d,'hang%d','%s','%s');\"\n",
    "if x_dis<=10 and y_dis<=10:\n",
    "    sort_ress = res_df.sort_values(by=['y','x'],ascending=[1,1])\n",
    "    \n",
    "    row_num = 1\n",
    "    start_inx = 1\n",
    "    \n",
    "    for inx,item in sort_ress.iterrows():\n",
    "        real_x = item['x'] + x_b\n",
    "        real_y = item['y'] + y_b\n",
    "        real_word = item['word']\n",
    "        \n",
    "        print('===== x,y,word,row_num,start_inx:',real_x,real_y,real_word,row_num,start_inx)\n",
    "        \n",
    "        if row_num>1 and row_num < real_y:\n",
    "            #加入空值\n",
    "            while start_inx <= 10:\n",
    "                tmp_sql = sql % (lvl,10 - row_num,'','')\n",
    "                sqls.append(tmp_sql)\n",
    "                start_inx += 1\n",
    "            #重制位置\n",
    "            start_inx = 1\n",
    "        \n",
    "        #加入空值\n",
    "        while start_inx < real_x:\n",
    "            tmp_sql = sql % (lvl,10 - real_y,'','')\n",
    "            sqls.append(tmp_sql)\n",
    "            start_inx += 1\n",
    "        #加入当前值\n",
    "        if real_word in answers:\n",
    "            tmp_sql = sql % (lvl,10 - real_y,'',real_word)\n",
    "        else:\n",
    "            tmp_sql = sql % (lvl,10 - real_y,real_word,'')\n",
    "        sqls.append(tmp_sql)\n",
    "        \n",
    "        row_num = real_y\n",
    "        start_inx = real_x + 1\n",
    "    \n",
    "    #补充最后的空行\n",
    "    while start_inx <= 10:\n",
    "        tmp_sql = sql % (lvl,10 - row_num,'','')\n",
    "        sqls.append(tmp_sql)\n",
    "        start_inx += 1"
   ]
  },
  {
   "cell_type": "code",
   "execution_count": 20,
   "metadata": {},
   "outputs": [
    {
     "name": "stdout",
     "output_type": "stream",
     "text": [
      "insert into llx.chengyu_level(lvl,row_code,word,answer) values(2,'hang9','','');\n",
      "insert into llx.chengyu_level(lvl,row_code,word,answer) values(2,'hang9','','');\n",
      "insert into llx.chengyu_level(lvl,row_code,word,answer) values(2,'hang9','','');\n",
      "insert into llx.chengyu_level(lvl,row_code,word,answer) values(2,'hang9','','');\n",
      "insert into llx.chengyu_level(lvl,row_code,word,answer) values(2,'hang9','','');\n",
      "insert into llx.chengyu_level(lvl,row_code,word,answer) values(2,'hang9','','');\n",
      "insert into llx.chengyu_level(lvl,row_code,word,answer) values(2,'hang9','','');\n",
      "insert into llx.chengyu_level(lvl,row_code,word,answer) values(2,'hang9','屦','');\n",
      "insert into llx.chengyu_level(lvl,row_code,word,answer) values(2,'hang8','','旦');\n",
      "insert into llx.chengyu_level(lvl,row_code,word,answer) values(2,'hang8','暮','');\n",
      "insert into llx.chengyu_level(lvl,row_code,word,answer) values(2,'hang8','入','');\n",
      "insert into llx.chengyu_level(lvl,row_code,word,answer) values(2,'hang8','','地');\n",
      "insert into llx.chengyu_level(lvl,row_code,word,answer) values(2,'hang8','','');\n",
      "insert into llx.chengyu_level(lvl,row_code,word,answer) values(2,'hang8','','');\n",
      "insert into llx.chengyu_level(lvl,row_code,word,answer) values(2,'hang7','','');\n",
      "insert into llx.chengyu_level(lvl,row_code,word,answer) values(2,'hang7','','');\n",
      "insert into llx.chengyu_level(lvl,row_code,word,answer) values(2,'hang7','','火');\n",
      "insert into llx.chengyu_level(lvl,row_code,word,answer) values(2,'hang7','','');\n",
      "insert into llx.chengyu_level(lvl,row_code,word,answer) values(2,'hang7','昧','');\n",
      "insert into llx.chengyu_level(lvl,row_code,word,answer) values(2,'hang7','','');\n",
      "insert into llx.chengyu_level(lvl,row_code,word,answer) values(2,'hang7','','');\n",
      "insert into llx.chengyu_level(lvl,row_code,word,answer) values(2,'hang7','','冠');\n",
      "insert into llx.chengyu_level(lvl,row_code,word,answer) values(2,'hang7','','');\n",
      "insert into llx.chengyu_level(lvl,row_code,word,answer) values(2,'hang7','','');\n",
      "insert into llx.chengyu_level(lvl,row_code,word,answer) values(2,'hang6','','');\n",
      "insert into llx.chengyu_level(lvl,row_code,word,answer) values(2,'hang6','','');\n",
      "insert into llx.chengyu_level(lvl,row_code,word,answer) values(2,'hang6','止','');\n",
      "insert into llx.chengyu_level(lvl,row_code,word,answer) values(2,'hang6','','戈');\n",
      "insert into llx.chengyu_level(lvl,row_code,word,answer) values(2,'hang6','','兴');\n",
      "insert into llx.chengyu_level(lvl,row_code,word,answer) values(2,'hang6','仁','');\n",
      "insert into llx.chengyu_level(lvl,row_code,word,answer) values(2,'hang6','','');\n",
      "insert into llx.chengyu_level(lvl,row_code,word,answer) values(2,'hang6','天','');\n",
      "insert into llx.chengyu_level(lvl,row_code,word,answer) values(2,'hang6','','');\n",
      "insert into llx.chengyu_level(lvl,row_code,word,answer) values(2,'hang6','','');\n",
      "insert into llx.chengyu_level(lvl,row_code,word,answer) values(2,'hang5','','');\n",
      "insert into llx.chengyu_level(lvl,row_code,word,answer) values(2,'hang5','','');\n",
      "insert into llx.chengyu_level(lvl,row_code,word,answer) values(2,'hang5','','膏');\n",
      "insert into llx.chengyu_level(lvl,row_code,word,answer) values(2,'hang5','','');\n",
      "insert into llx.chengyu_level(lvl,row_code,word,answer) values(2,'hang5','夙','');\n",
      "insert into llx.chengyu_level(lvl,row_code,word,answer) values(2,'hang5','','');\n",
      "insert into llx.chengyu_level(lvl,row_code,word,answer) values(2,'hang5','','');\n",
      "insert into llx.chengyu_level(lvl,row_code,word,answer) values(2,'hang5','','');\n",
      "insert into llx.chengyu_level(lvl,row_code,word,answer) values(2,'hang5','','');\n",
      "insert into llx.chengyu_level(lvl,row_code,word,answer) values(2,'hang5','','');\n",
      "insert into llx.chengyu_level(lvl,row_code,word,answer) values(2,'hang4','','');\n",
      "insert into llx.chengyu_level(lvl,row_code,word,answer) values(2,'hang4','','');\n",
      "insert into llx.chengyu_level(lvl,row_code,word,answer) values(2,'hang4','','投');\n",
      "insert into llx.chengyu_level(lvl,row_code,word,answer) values(2,'hang4','','');\n",
      "insert into llx.chengyu_level(lvl,row_code,word,answer) values(2,'hang4','','');\n",
      "insert into llx.chengyu_level(lvl,row_code,word,answer) values(2,'hang4','楷','');\n",
      "insert into llx.chengyu_level(lvl,row_code,word,answer) values(2,'hang4','','');\n",
      "insert into llx.chengyu_level(lvl,row_code,word,answer) values(2,'hang4','','');\n",
      "insert into llx.chengyu_level(lvl,row_code,word,answer) values(2,'hang4','','');\n",
      "insert into llx.chengyu_level(lvl,row_code,word,answer) values(2,'hang4','','');\n",
      "insert into llx.chengyu_level(lvl,row_code,word,answer) values(2,'hang3','','');\n",
      "insert into llx.chengyu_level(lvl,row_code,word,answer) values(2,'hang3','','');\n",
      "insert into llx.chengyu_level(lvl,row_code,word,answer) values(2,'hang3','','');\n",
      "insert into llx.chengyu_level(lvl,row_code,word,answer) values(2,'hang3','','');\n",
      "insert into llx.chengyu_level(lvl,row_code,word,answer) values(2,'hang3','','');\n",
      "insert into llx.chengyu_level(lvl,row_code,word,answer) values(2,'hang3','小','');\n",
      "insert into llx.chengyu_level(lvl,row_code,word,answer) values(2,'hang3','','');\n",
      "insert into llx.chengyu_level(lvl,row_code,word,answer) values(2,'hang3','','');\n",
      "insert into llx.chengyu_level(lvl,row_code,word,answer) values(2,'hang3','','');\n",
      "insert into llx.chengyu_level(lvl,row_code,word,answer) values(2,'hang3','','');\n",
      "insert into llx.chengyu_level(lvl,row_code,word,answer) values(2,'hang2','','');\n",
      "insert into llx.chengyu_level(lvl,row_code,word,answer) values(2,'hang2','','');\n",
      "insert into llx.chengyu_level(lvl,row_code,word,answer) values(2,'hang2','','');\n",
      "insert into llx.chengyu_level(lvl,row_code,word,answer) values(2,'hang2','','');\n",
      "insert into llx.chengyu_level(lvl,row_code,word,answer) values(2,'hang2','','');\n",
      "insert into llx.chengyu_level(lvl,row_code,word,answer) values(2,'hang2','头','');\n",
      "insert into llx.chengyu_level(lvl,row_code,word,answer) values(2,'hang2','','');\n",
      "insert into llx.chengyu_level(lvl,row_code,word,answer) values(2,'hang2','','');\n",
      "insert into llx.chengyu_level(lvl,row_code,word,answer) values(2,'hang2','','');\n",
      "insert into llx.chengyu_level(lvl,row_code,word,answer) values(2,'hang2','','');\n",
      "insert into llx.chengyu_level(lvl,row_code,word,answer) values(2,'hang1','','');\n",
      "insert into llx.chengyu_level(lvl,row_code,word,answer) values(2,'hang1','','');\n",
      "insert into llx.chengyu_level(lvl,row_code,word,answer) values(2,'hang1','','');\n",
      "insert into llx.chengyu_level(lvl,row_code,word,answer) values(2,'hang1','','');\n",
      "insert into llx.chengyu_level(lvl,row_code,word,answer) values(2,'hang1','青','');\n",
      "insert into llx.chengyu_level(lvl,row_code,word,answer) values(2,'hang1','','蝇');\n",
      "insert into llx.chengyu_level(lvl,row_code,word,answer) values(2,'hang1','','吊');\n",
      "insert into llx.chengyu_level(lvl,row_code,word,answer) values(2,'hang1','客','');\n",
      "insert into llx.chengyu_level(lvl,row_code,word,answer) values(2,'hang1','','');\n",
      "insert into llx.chengyu_level(lvl,row_code,word,answer) values(2,'hang1','','');\n"
     ]
    }
   ],
   "source": [
    "for sql in sqls:\n",
    "    print(sql)"
   ]
  },
  {
   "cell_type": "code",
   "execution_count": 21,
   "metadata": {},
   "outputs": [],
   "source": [
    "# # 保存关卡结果\n",
    "# with open('lvl_words.txt','a') as f:\n",
    "#     for item in res:\n",
    "#         f.write(str(lvl)+\",\"+item['word']+'\\n')\n"
   ]
  },
  {
   "cell_type": "code",
   "execution_count": 22,
   "metadata": {},
   "outputs": [
    {
     "data": {
      "text/plain": [
       "(0, 5)"
      ]
     },
     "execution_count": 22,
     "metadata": {},
     "output_type": "execute_result"
    }
   ],
   "source": [
    "res_df['x'].min(),res_df['x'].max() "
   ]
  },
  {
   "cell_type": "code",
   "execution_count": 23,
   "metadata": {},
   "outputs": [
    {
     "data": {
      "text/plain": [
       "(-5, 3)"
      ]
     },
     "execution_count": 23,
     "metadata": {},
     "output_type": "execute_result"
    }
   ],
   "source": [
    "res_df['y'].min(),res_df['y'].max()"
   ]
  },
  {
   "cell_type": "code",
   "execution_count": 24,
   "metadata": {},
   "outputs": [
    {
     "data": {
      "text/html": [
       "<div>\n",
       "<style scoped>\n",
       "    .dataframe tbody tr th:only-of-type {\n",
       "        vertical-align: middle;\n",
       "    }\n",
       "\n",
       "    .dataframe tbody tr th {\n",
       "        vertical-align: top;\n",
       "    }\n",
       "\n",
       "    .dataframe thead th {\n",
       "        text-align: right;\n",
       "    }\n",
       "</style>\n",
       "<table border=\"1\" class=\"dataframe\">\n",
       "  <thead>\n",
       "    <tr style=\"text-align: right;\">\n",
       "      <th></th>\n",
       "      <th>x</th>\n",
       "      <th>y</th>\n",
       "      <th>word</th>\n",
       "    </tr>\n",
       "  </thead>\n",
       "  <tbody>\n",
       "    <tr>\n",
       "      <th>27</th>\n",
       "      <td>5</td>\n",
       "      <td>-5</td>\n",
       "      <td>屦</td>\n",
       "    </tr>\n",
       "    <tr>\n",
       "      <th>11</th>\n",
       "      <td>2</td>\n",
       "      <td>-4</td>\n",
       "      <td>旦</td>\n",
       "    </tr>\n",
       "    <tr>\n",
       "      <th>13</th>\n",
       "      <td>3</td>\n",
       "      <td>-4</td>\n",
       "      <td>暮</td>\n",
       "    </tr>\n",
       "    <tr>\n",
       "      <th>14</th>\n",
       "      <td>4</td>\n",
       "      <td>-4</td>\n",
       "      <td>入</td>\n",
       "    </tr>\n",
       "    <tr>\n",
       "      <th>15</th>\n",
       "      <td>5</td>\n",
       "      <td>-4</td>\n",
       "      <td>地</td>\n",
       "    </tr>\n",
       "    <tr>\n",
       "      <th>3</th>\n",
       "      <td>0</td>\n",
       "      <td>-3</td>\n",
       "      <td>火</td>\n",
       "    </tr>\n",
       "    <tr>\n",
       "      <th>10</th>\n",
       "      <td>2</td>\n",
       "      <td>-3</td>\n",
       "      <td>昧</td>\n",
       "    </tr>\n",
       "    <tr>\n",
       "      <th>25</th>\n",
       "      <td>5</td>\n",
       "      <td>-3</td>\n",
       "      <td>冠</td>\n",
       "    </tr>\n",
       "    <tr>\n",
       "      <th>2</th>\n",
       "      <td>0</td>\n",
       "      <td>-2</td>\n",
       "      <td>止</td>\n",
       "    </tr>\n",
       "    <tr>\n",
       "      <th>5</th>\n",
       "      <td>1</td>\n",
       "      <td>-2</td>\n",
       "      <td>戈</td>\n",
       "    </tr>\n",
       "    <tr>\n",
       "      <th>6</th>\n",
       "      <td>2</td>\n",
       "      <td>-2</td>\n",
       "      <td>兴</td>\n",
       "    </tr>\n",
       "    <tr>\n",
       "      <th>7</th>\n",
       "      <td>3</td>\n",
       "      <td>-2</td>\n",
       "      <td>仁</td>\n",
       "    </tr>\n",
       "    <tr>\n",
       "      <th>24</th>\n",
       "      <td>5</td>\n",
       "      <td>-2</td>\n",
       "      <td>天</td>\n",
       "    </tr>\n",
       "    <tr>\n",
       "      <th>1</th>\n",
       "      <td>0</td>\n",
       "      <td>-1</td>\n",
       "      <td>膏</td>\n",
       "    </tr>\n",
       "    <tr>\n",
       "      <th>8</th>\n",
       "      <td>2</td>\n",
       "      <td>-1</td>\n",
       "      <td>夙</td>\n",
       "    </tr>\n",
       "    <tr>\n",
       "      <th>0</th>\n",
       "      <td>0</td>\n",
       "      <td>0</td>\n",
       "      <td>投</td>\n",
       "    </tr>\n",
       "    <tr>\n",
       "      <th>19</th>\n",
       "      <td>3</td>\n",
       "      <td>0</td>\n",
       "      <td>楷</td>\n",
       "    </tr>\n",
       "    <tr>\n",
       "      <th>18</th>\n",
       "      <td>3</td>\n",
       "      <td>1</td>\n",
       "      <td>小</td>\n",
       "    </tr>\n",
       "    <tr>\n",
       "      <th>17</th>\n",
       "      <td>3</td>\n",
       "      <td>2</td>\n",
       "      <td>头</td>\n",
       "    </tr>\n",
       "    <tr>\n",
       "      <th>20</th>\n",
       "      <td>2</td>\n",
       "      <td>3</td>\n",
       "      <td>青</td>\n",
       "    </tr>\n",
       "    <tr>\n",
       "      <th>16</th>\n",
       "      <td>3</td>\n",
       "      <td>3</td>\n",
       "      <td>蝇</td>\n",
       "    </tr>\n",
       "    <tr>\n",
       "      <th>22</th>\n",
       "      <td>4</td>\n",
       "      <td>3</td>\n",
       "      <td>吊</td>\n",
       "    </tr>\n",
       "    <tr>\n",
       "      <th>23</th>\n",
       "      <td>5</td>\n",
       "      <td>3</td>\n",
       "      <td>客</td>\n",
       "    </tr>\n",
       "  </tbody>\n",
       "</table>\n",
       "</div>"
      ],
      "text/plain": [
       "    x  y word\n",
       "27  5 -5    屦\n",
       "11  2 -4    旦\n",
       "13  3 -4    暮\n",
       "14  4 -4    入\n",
       "15  5 -4    地\n",
       "3   0 -3    火\n",
       "10  2 -3    昧\n",
       "25  5 -3    冠\n",
       "2   0 -2    止\n",
       "5   1 -2    戈\n",
       "6   2 -2    兴\n",
       "7   3 -2    仁\n",
       "24  5 -2    天\n",
       "1   0 -1    膏\n",
       "8   2 -1    夙\n",
       "0   0  0    投\n",
       "19  3  0    楷\n",
       "18  3  1    小\n",
       "17  3  2    头\n",
       "20  2  3    青\n",
       "16  3  3    蝇\n",
       "22  4  3    吊\n",
       "23  5  3    客"
      ]
     },
     "execution_count": 24,
     "metadata": {},
     "output_type": "execute_result"
    }
   ],
   "source": [
    "sort_ress = res_df.sort_values(by=['y','x'],ascending=[1,1])\n",
    "sort_ress"
   ]
  },
  {
   "cell_type": "code",
   "execution_count": 25,
   "metadata": {},
   "outputs": [
    {
     "name": "stdout",
     "output_type": "stream",
     "text": [
      "0 0 0 投\n"
     ]
    }
   ],
   "source": [
    "for inx,item in res_df.iterrows():\n",
    "    print(inx,item['x'],item['y'],item['word'])\n",
    "    break"
   ]
  },
  {
   "cell_type": "code",
   "execution_count": 26,
   "metadata": {},
   "outputs": [
    {
     "data": {
      "text/plain": [
       "\"insert into llx.chengyu_level(lvl,row_code,word,answer) values(1,'hang2','','');\""
      ]
     },
     "execution_count": 26,
     "metadata": {},
     "output_type": "execute_result"
    }
   ],
   "source": [
    "black_sql = \"insert into llx.chengyu_level(lvl,row_code,word,answer) values(1,'hang2','','');\"\n",
    "black_sql"
   ]
  },
  {
   "cell_type": "code",
   "execution_count": 27,
   "metadata": {},
   "outputs": [
    {
     "data": {
      "text/plain": [
       "\"insert into llx.chengyu_level(lvl,row_code,word,answer) values(1,'hang2','a','');\""
      ]
     },
     "execution_count": 27,
     "metadata": {},
     "output_type": "execute_result"
    }
   ],
   "source": [
    "sql = \"insert into llx.chengyu_level(lvl,row_code,word,answer) values(%d,'hang%d','%s','%s');\"\n",
    "s = sql % (1,2,'a','')\n",
    "s"
   ]
  },
  {
   "cell_type": "code",
   "execution_count": 28,
   "metadata": {},
   "outputs": [
    {
     "data": {
      "text/plain": [
       "'浪迹天涯'"
      ]
     },
     "execution_count": 28,
     "metadata": {},
     "output_type": "execute_result"
    }
   ],
   "source": [
    "searchCy('天',2)"
   ]
  },
  {
   "cell_type": "code",
   "execution_count": null,
   "metadata": {},
   "outputs": [],
   "source": []
  }
 ],
 "metadata": {
  "kernelspec": {
   "display_name": "Python 3",
   "language": "python",
   "name": "python3"
  },
  "language_info": {
   "codemirror_mode": {
    "name": "ipython",
    "version": 3
   },
   "file_extension": ".py",
   "mimetype": "text/x-python",
   "name": "python",
   "nbconvert_exporter": "python",
   "pygments_lexer": "ipython3",
   "version": "3.6.0"
  }
 },
 "nbformat": 4,
 "nbformat_minor": 2
}
